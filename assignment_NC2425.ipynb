{
 "cells": [
  {
   "cell_type": "markdown",
   "id": "bf1be1b2f55b62c0",
   "metadata": {},
   "source": [
    "# Food Classification with CNN - Building a Restaurant Recommendation System\n",
    "\n",
    "This assignment focuses on developing a deep learning-based food classification system using Convolutional Neural Networks (CNNs). You will build a model that can recognize different food categories and use it to return the food preferences of a user.\n",
    "\n",
    "## Learning Objectives\n",
    "- Implement CNNs for image classification\n",
    "- Work with real-world food image datasets\n",
    "- Build a preference-detector system\n",
    "\n",
    "## Background: AI-Powered Food Preference Discovery\n",
    "\n",
    "The system's core idea is simple:\n",
    "\n",
    "1. Users upload 10 photos of dishes they enjoy\n",
    "2. Your CNN classifies these images into the 91 categories\n",
    "3. Based on these categories, the system returns the user's taste profile\n",
    "\n",
    "Your task is to develop the core computer vision component that will power this detection engine.\n",
    "\n",
    "You are given a training (\"train\" folder) and a test (\"test\" folder) dataset which have ~45k and ~22k samples respectively. For each one of the 91 classes there is a subdirectory containing the images of the respective class.\n",
    "\n",
    "## Assignment Requirements\n",
    "\n",
    "### Technical Requirements\n",
    "- Implement your own pytorch CNN architecture for food image classification\n",
    "- Use only the provided training dataset split for training\n",
    "- Train the network from scratch ; No pretrained weights can be used\n",
    "- Report test-accuracy after every epoch\n",
    "- Report all hyperparameters of final model\n",
    "- Use a fixed seed and do not use any CUDA-features that break reproducibility\n",
    "- Use Pytorch 2.6\n",
    "\n",
    "### Deliverables\n",
    "1. Jupyter Notebook with CNN implementation, training code etc.\n",
    "2. README file\n",
    "3. Report (max 3 pages)\n",
    "\n",
    "Submit your report, README and all code files as a single zip file named GROUP_[number]_NC2425_PA. The names and IDs of the group components must be mentioned in the README.\n",
    "Do not include the dataset in your submission.\n",
    "\n",
    "### Grading\n",
    "\n",
    "1. Correct CNN implementation, training runs on the uni DSLab computers according to the README.MD instructions without ANY exceptions on the DSLab machines: 3pt\n",
    "2. Perfect 1:1 reproducibility on DSLab machines: 1pt\n",
    "3. Very clear github-repo-style README.MD with instructions for running the code: 1pt\n",
    "4. Report: 1pt\n",
    "5. Model test performance on test-set: interpolated from 30-80% test-accuracy: 0-3pt\n",
    "6. Pick 10 random pictures of the test set to simulate a user uploading images and report which categories occur how often in these: 1pt\n",
    "7. Bonus point: use an LLM (API) to generate short description / profile of preferences of the simulated user\n",
    "\n",
    "**If there is anything unclear about this assignment please post your question in the Brightspace discussions forum or send an email**\n"
   ]
  },
  {
   "cell_type": "markdown",
   "id": "74c222e5c4ff1b26",
   "metadata": {},
   "source": [
    "# Loading the datasets\n",
    "The dataset is already split into a train and test set in the directories \"train\" and \"test\". "
   ]
  },
  {
   "cell_type": "code",
   "execution_count": null,
   "id": "aed23ce7b9cbfbf3",
   "metadata": {},
   "outputs": [
    {
     "name": "stdout",
     "output_type": "stream",
     "text": [
      "torch.Size([3, 128, 128]) 0\n"
     ]
    }
   ],
   "source": [
    "import os\n",
    "import itertools\n",
    "import csv\n",
    "import matplotlib.pyplot as plt\n",
    "from datetime import datetime\n",
    "import torch\n",
    "import torch.nn as nn\n",
    "import torch.nn.functional as F\n",
    "from torch.utils.data import DataLoader\n",
    "from torchvision import datasets, transforms\n",
    "from torch.cuda.amp import GradScaler, autocast\n",
    "from tqdm import tqdm\n",
    "import random\n",
    "from collections import Counter\n",
    "import numpy as np\n",
    "import time\n",
    "\n",
    "os.environ[\"PYTORCH_CUDA_ALLOC_CONF\"] = \"expandable_segments:True\"\n",
    "\n",
    "device = torch.device(\"cuda\" if torch.cuda.is_available() else \"cpu\")\n",
    "device_type = \"cuda\" if torch.cuda.is_available() else \"cpu\"\n",
    "\n",
    "torch.manual_seed(18)\n",
    "random.seed(18)\n",
    "np.random.seed(18)\n",
    "if torch.cuda.is_available():\n",
    "    torch.cuda.manual_seed_all(18)\n",
    "\n",
    "# give training set more distortion to discourage overfitting\n",
    "train_transform = transforms.Compose([\n",
    "    transforms.RandomResizedCrop(128, scale=(0.8, 1.0)),\n",
    "    transforms.RandomHorizontalFlip(p=0.5),\n",
    "    transforms.RandomRotation(15),\n",
    "    transforms.ColorJitter(brightness=0.1, contrast=0.1, saturation=0.1), #slightly distort. food classification probably requires color signals so can't distort to much. \n",
    "    transforms.ToTensor(),\n",
    "    transforms.RandomErasing(p=0.25, scale=(0.02, 0.2)),\n",
    "    transforms.Normalize(mean=[0.485, 0.456, 0.406],\n",
    "                         std=[0.229, 0.224, 0.225])\n",
    "])\n",
    "\n",
    "# show mostly normal test images to model to see if it generalized well\n",
    "test_transform = transforms.Compose([\n",
    "    transforms.Resize(144),\n",
    "    transforms.RandomCrop(128),\n",
    "    transforms.ToTensor(),\n",
    "    transforms.Normalize(mean=[0.485, 0.456, 0.406],\n",
    "                         std=[0.229, 0.224, 0.225])\n",
    "])\n",
    "\n",
    "# Load datasets with correct transforms\n",
    "train_dataset = datasets.ImageFolder(root=\"/train\", transform=train_transform) \n",
    "test_dataset = datasets.ImageFolder(root=\"/test\", transform=test_transform)\n",
    "\n",
    "# Read an example image\n",
    "image, label = train_dataset[84]\n",
    "print(image.shape, label)\n",
    "\n",
    "# Set num_workers \n",
    "num_workers = min(14, os.cpu_count())  # auto-detect cpu core count, cap at 14 (lower this cap if system crashes)\n",
    "\n",
    "# Create DataLoaders\n",
    "train_loader = DataLoader(train_dataset, batch_size=32, shuffle=True, num_workers=num_workers, pin_memory=True, persistent_workers=True)\n",
    "test_loader = DataLoader(test_dataset, batch_size=32, shuffle=False, num_workers=num_workers, pin_memory=True, persistent_workers=True)\n"
   ]
  },
  {
   "cell_type": "markdown",
   "id": "2f7bb30ae14ffa42",
   "metadata": {},
   "source": [
    "# CNN Implementation"
   ]
  },
  {
   "cell_type": "code",
   "execution_count": 4,
   "id": "cb4855a7fbfb90ec",
   "metadata": {},
   "outputs": [],
   "source": [
    "device = torch.device(\"cuda\" if torch.cuda.is_available() else \"cpu\")\n",
    "\n",
    "class FoodCNN(nn.Module):\n",
    "    def __init__(self, plot_graph=True, early_stopping=True, patience=5, eval_interval=5):\n",
    "        super().__init__()\n",
    "\n",
    "        self.features = nn.Sequential(\n",
    "            # Block 1\n",
    "            nn.Conv2d(3, 64, kernel_size=3, padding=1),\n",
    "            nn.BatchNorm2d(64),\n",
    "            nn.ReLU(inplace=True),\n",
    "            nn.Conv2d(64, 64, kernel_size=3, padding=1),\n",
    "            nn.BatchNorm2d(64),\n",
    "            nn.ReLU(inplace=True),\n",
    "            nn.Dropout2d(0.2),\n",
    "            nn.MaxPool2d(kernel_size=2, stride=2),\n",
    "\n",
    "            # Block 2\n",
    "            nn.Conv2d(64, 128, kernel_size=3, padding=1),\n",
    "            nn.BatchNorm2d(128),\n",
    "            nn.ReLU(inplace=True),\n",
    "            nn.Conv2d(128, 128, kernel_size=3, padding=1),\n",
    "            nn.BatchNorm2d(128),\n",
    "            nn.ReLU(inplace=True),\n",
    "            nn.Dropout2d(0.2),\n",
    "            nn.MaxPool2d(kernel_size=2, stride=2),\n",
    "\n",
    "            # Block 3\n",
    "            nn.Conv2d(128, 256, kernel_size=3, padding=1),\n",
    "            nn.BatchNorm2d(256),\n",
    "            nn.ReLU(inplace=True),\n",
    "            nn.Conv2d(256, 256, kernel_size=3, padding=1),\n",
    "            nn.BatchNorm2d(256),\n",
    "            nn.ReLU(inplace=True),\n",
    "            nn.Dropout2d(0.2),\n",
    "            nn.MaxPool2d(kernel_size=2, stride=2),\n",
    "\n",
    "            # Block 4 \n",
    "            nn.Conv2d(256, 512, kernel_size=3, padding=1),\n",
    "            nn.BatchNorm2d(512),\n",
    "            nn.ReLU(inplace=True),\n",
    "            nn.Conv2d(512, 512, kernel_size=3, padding=1),\n",
    "            nn.BatchNorm2d(512),\n",
    "            nn.ReLU(inplace=True),\n",
    "            nn.Dropout2d(0.2),\n",
    "            nn.AdaptiveAvgPool2d((1, 1))  # Output: (batch_size, 512, 1, 1)\n",
    "        )\n",
    "\n",
    "        self.classifier = nn.Sequential(\n",
    "            nn.Flatten(),\n",
    "            nn.Linear(512, 256),\n",
    "            nn.ReLU(inplace=True),\n",
    "            nn.Dropout(0.5),\n",
    "            nn.Linear(256, 91)\n",
    "        )\n",
    "\n",
    "        # control flags\n",
    "        self.plot_graph = plot_graph\n",
    "        self.early_stopping = early_stopping # saves time is model stops improving\n",
    "        self.patience = patience # threshold to stop training if accuracy doesnt improve enough accross epochs\n",
    "        \n",
    "        self.eval_interval = eval_interval # gather test and train accuracy every n epochs for plotting\n",
    "        \n",
    "    def forward(self, X):\n",
    "        X = self.features(X)\n",
    "        X = self.classifier(X)\n",
    "        return X\n",
    "\n",
    "    def _train_and_save_model(self):\n",
    "        pass  \n",
    "    \n",
    "    def plot_accuracies(self, train_accuracies, test_accuracies):\n",
    "        \"\"\"Plots training and testing accuracies after training, and saves plot.\"\"\"\n",
    "        \n",
    "        if not os.path.exists('plots'):\n",
    "            os.makedirs('plots')\n",
    "        \n",
    "        timestamp = datetime.now().strftime(\"%Y-%m-%d_%H-%M-%S\")\n",
    "        filename = f\"accuracy_plot_{timestamp}.png\"\n",
    "        save_path = os.path.join('plots', filename)\n",
    "        \n",
    "        plt.figure(figsize=(8, 6))\n",
    "        plt.plot(range(1, len(train_accuracies) + 1), train_accuracies, marker='o', label='Train Accuracy')\n",
    "        plt.plot(range(1, len(test_accuracies) + 1), test_accuracies, marker='x', label='Test Accuracy')\n",
    "        plt.title(\"Accuracy vs Epochs\")\n",
    "        plt.xlabel(\"Epoch\")\n",
    "        plt.ylabel(\"Accuracy (%)\")\n",
    "        plt.legend()\n",
    "        plt.grid(True)\n",
    "        \n",
    "        plt.savefig(save_path)\n",
    "        \n",
    "        if self.plot_graph:\n",
    "            plt.show()"
   ]
  },
  {
   "cell_type": "markdown",
   "id": "8c602d154e795a27",
   "metadata": {},
   "source": [
    "# Training the model\n",
    "Implement your training process below. Report the test-accuracy after every epoch for the training run of the final model.\n",
    "\n",
    "Hint: before training your model make sure to reset the seed in the training cell, as otherwise the seed may have changed due to previous training runs in the notebook\n",
    "\n",
    "Note: If you implement automatic hyperparameter tuning, split the train set into train and validation subsets for the objective function."
   ]
  },
  {
   "cell_type": "code",
   "execution_count": null,
   "id": "7ff7d9d84c06f5d8",
   "metadata": {},
   "outputs": [],
   "source": [
    "def calculate_test_accuracy(model, test_loader): \n",
    "    model.eval()  # set model to evaluation mode\n",
    "    test_correct = 0\n",
    "    total_test = 0\n",
    "\n",
    "    with torch.no_grad():  # disable gradient computation (faster)\n",
    "        for X_test, y_test in test_loader:\n",
    "            X_test = X_test.to(device)\n",
    "            y_test = y_test.to(device)\n",
    "            \n",
    "            with autocast(device_type=device_type, dtype=torch.float16 if device_type == \"cuda\" else torch.bfloat16):\n",
    "                outputs = model(X_test)\n",
    "            \n",
    "            predictions = torch.argmax(outputs, dim=1)\n",
    "            test_correct += (predictions == y_test).sum().item()\n",
    "            total_test += y_test.size(0)\n",
    "\n",
    "    test_accuracy = (test_correct / total_test) * 100\n",
    "    return test_accuracy\n",
    "\n",
    "def _train_and_save_model(self):\n",
    "    self.to(device)\n",
    "    torch.manual_seed(18)\n",
    "    epochs = 100  # or however many you want\n",
    "\n",
    "    #ADAM\n",
    "    #optimizer = torch.optim.Adam(self.parameters(), lr=0.001)\n",
    "    #scheduler = torch.optim.lr_scheduler.CosineAnnealingLR(optimizer, T_max=epochs) # learning rate gradaully decreases naturally (fight overfitting)\n",
    "    #SGD\n",
    "    optimizer = torch.optim.SGD(self.parameters(), lr=0.05, momentum=0.9, weight_decay=1e-4)\n",
    "    scheduler = torch.optim.lr_scheduler.CosineAnnealingLR(optimizer, T_max=epochs)\n",
    "    criterion = nn.CrossEntropyLoss(label_smoothing=0.1) # prevent overconfidence with label smoothing\n",
    "    scaler = GradScaler(device=device_type)\n",
    "\n",
    "    best_test_accuracy = 0.0\n",
    "    train_accuracies = []\n",
    "    test_accuracies = []\n",
    "    patience_counter = 0  # for early stopping\n",
    "\n",
    "    print(\"Device being used:\", device)\n",
    "    start_time = time.time()\n",
    "\n",
    "    for e in range(epochs):\n",
    "        self.train()\n",
    "        training_correct = 0\n",
    "        total_train = 0\n",
    "\n",
    "        for X_train, y_train in tqdm(train_loader, desc=f\"Epoch {e+1}\"):\n",
    "            X_train, y_train = X_train.to(device), y_train.to(device)\n",
    "\n",
    "            optimizer.zero_grad()\n",
    "\n",
    "            with autocast(device_type=device_type, dtype=torch.float16 if device_type==\"cuda\" else torch.bfloat16):\n",
    "                y_pred = self(X_train)\n",
    "                loss = criterion(y_pred, y_train)\n",
    "\n",
    "            scaler.scale(loss).backward()\n",
    "            scaler.step(optimizer)\n",
    "            scaler.update()\n",
    "\n",
    "            label_pred = torch.argmax(y_pred, dim=1)\n",
    "            training_correct += (label_pred == y_train).sum().item()\n",
    "            total_train += y_train.size(0)\n",
    "            \n",
    "        scheduler.step()\n",
    "\n",
    "        # Evaluate test and train accuracy every 'self.eval_interval' epochs\n",
    "        if (e + 1) % self.eval_interval == 0 or e == epochs - 1:\n",
    "            train_accuracy = (training_correct / total_train) * 100\n",
    "            print(f\"Training accuracy of epoch {e+1}: {train_accuracy:.2f}%\")\n",
    "            train_accuracies.append(train_accuracy)\n",
    "            \n",
    "            test_accuracy = calculate_test_accuracy(self, test_loader)\n",
    "            test_accuracies.append(test_accuracy)\n",
    "            print(f\"Test accuracy of epoch {e+1}: {test_accuracy:.2f}%\")\n",
    "\n",
    "            # Save best model\n",
    "            if test_accuracy > best_test_accuracy:\n",
    "                best_test_accuracy = test_accuracy\n",
    "                torch.save(self.state_dict(), \"best_model.pth\")\n",
    "                patience_counter = 0  # reset patience counter\n",
    "            else:\n",
    "                patience_counter += 1\n",
    "            \n",
    "            # Early stopping check\n",
    "            if self.early_stopping and patience_counter >= self.patience:\n",
    "                print(f\"Early stopping triggered at epoch {e+1}.\")\n",
    "                break\n",
    "        \n",
    "        torch.cuda.empty_cache()\n",
    "\n",
    "    end_time = time.time()\n",
    "    print(f\"Training Time: {end_time - start_time:.2f} seconds\")\n",
    "\n",
    "    # Plot at the end\n",
    "    self.plot_accuracies(train_accuracies, test_accuracies)\n",
    "\n",
    "FoodCNN._train_and_save_model = _train_and_save_model\n"
   ]
  },
  {
   "cell_type": "markdown",
   "id": "eb476e18bd30968c",
   "metadata": {},
   "source": [
    "# Calculating model performance\n",
    "Load the best version of your model ( which should be produced and saved by previous cells ), calculate and report the test accuracy."
   ]
  },
  {
   "cell_type": "code",
   "execution_count": 6,
   "id": "88d6da45",
   "metadata": {},
   "outputs": [],
   "source": [
    "import gc\n",
    "import torch\n",
    "\n",
    "gc.collect()               # Python garbage collector: clears unused CPU memory\n",
    "torch.cuda.empty_cache() "
   ]
  },
  {
   "cell_type": "markdown",
   "id": "11d8af1a",
   "metadata": {},
   "source": [
    "Run this block below to train\n"
   ]
  },
  {
   "cell_type": "code",
   "execution_count": 7,
   "id": "f7fc0bcb",
   "metadata": {},
   "outputs": [
    {
     "name": "stderr",
     "output_type": "stream",
     "text": [
      "c:\\Users\\apsne\\anaconda3\\envs\\Neural_Computing\\Lib\\site-packages\\torch\\nn\\modules\\module.py:1341: UserWarning: expandable_segments not supported on this platform (Triggered internally at C:\\actions-runner\\_work\\pytorch\\pytorch\\pytorch\\c10/cuda/CUDAAllocatorConfig.h:28.)\n",
      "  return t.to(\n"
     ]
    },
    {
     "name": "stdout",
     "output_type": "stream",
     "text": [
      "Device being used: cuda\n"
     ]
    },
    {
     "name": "stderr",
     "output_type": "stream",
     "text": [
      "Epoch 1: 100%|██████████| 1429/1429 [02:10<00:00, 10.92it/s]\n",
      "Epoch 2: 100%|██████████| 1429/1429 [01:06<00:00, 21.64it/s]\n",
      "Epoch 3: 100%|██████████| 1429/1429 [01:07<00:00, 21.21it/s]\n",
      "Epoch 4: 100%|██████████| 1429/1429 [01:08<00:00, 20.74it/s]\n",
      "Epoch 5: 100%|██████████| 1429/1429 [01:09<00:00, 20.56it/s]\n"
     ]
    },
    {
     "name": "stdout",
     "output_type": "stream",
     "text": [
      "Training accuracy of epoch 5: 4.57%\n",
      "Test accuracy of epoch 5: 6.74%\n"
     ]
    },
    {
     "name": "stderr",
     "output_type": "stream",
     "text": [
      "Epoch 6: 100%|██████████| 1429/1429 [01:06<00:00, 21.61it/s]\n",
      "Epoch 7: 100%|██████████| 1429/1429 [01:10<00:00, 20.27it/s]\n",
      "Epoch 8: 100%|██████████| 1429/1429 [01:11<00:00, 20.11it/s]\n",
      "Epoch 9: 100%|██████████| 1429/1429 [01:11<00:00, 20.02it/s]\n",
      "Epoch 10: 100%|██████████| 1429/1429 [01:11<00:00, 19.93it/s]\n"
     ]
    },
    {
     "name": "stdout",
     "output_type": "stream",
     "text": [
      "Training accuracy of epoch 10: 9.28%\n",
      "Test accuracy of epoch 10: 12.81%\n"
     ]
    },
    {
     "name": "stderr",
     "output_type": "stream",
     "text": [
      "Epoch 11: 100%|██████████| 1429/1429 [01:12<00:00, 19.63it/s]\n",
      "Epoch 12: 100%|██████████| 1429/1429 [01:07<00:00, 21.10it/s]\n",
      "Epoch 13: 100%|██████████| 1429/1429 [01:06<00:00, 21.34it/s]\n",
      "Epoch 14: 100%|██████████| 1429/1429 [01:06<00:00, 21.35it/s]\n",
      "Epoch 15: 100%|██████████| 1429/1429 [01:06<00:00, 21.37it/s]\n"
     ]
    },
    {
     "name": "stdout",
     "output_type": "stream",
     "text": [
      "Training accuracy of epoch 15: 13.80%\n",
      "Test accuracy of epoch 15: 19.51%\n"
     ]
    },
    {
     "name": "stderr",
     "output_type": "stream",
     "text": [
      "Epoch 16: 100%|██████████| 1429/1429 [01:06<00:00, 21.35it/s]\n",
      "Epoch 17: 100%|██████████| 1429/1429 [01:06<00:00, 21.36it/s]\n",
      "Epoch 18: 100%|██████████| 1429/1429 [01:09<00:00, 20.56it/s]\n",
      "Epoch 19: 100%|██████████| 1429/1429 [01:08<00:00, 20.87it/s]\n",
      "Epoch 20: 100%|██████████| 1429/1429 [01:06<00:00, 21.33it/s]\n"
     ]
    },
    {
     "name": "stdout",
     "output_type": "stream",
     "text": [
      "Training accuracy of epoch 20: 19.28%\n",
      "Test accuracy of epoch 20: 26.81%\n"
     ]
    },
    {
     "name": "stderr",
     "output_type": "stream",
     "text": [
      "Epoch 21: 100%|██████████| 1429/1429 [01:06<00:00, 21.38it/s]\n",
      "Epoch 22: 100%|██████████| 1429/1429 [01:06<00:00, 21.47it/s]\n",
      "Epoch 23: 100%|██████████| 1429/1429 [01:06<00:00, 21.45it/s]\n",
      "Epoch 24: 100%|██████████| 1429/1429 [01:06<00:00, 21.41it/s]\n",
      "Epoch 25: 100%|██████████| 1429/1429 [01:06<00:00, 21.51it/s]\n"
     ]
    },
    {
     "name": "stdout",
     "output_type": "stream",
     "text": [
      "Training accuracy of epoch 25: 25.54%\n",
      "Test accuracy of epoch 25: 34.79%\n"
     ]
    },
    {
     "name": "stderr",
     "output_type": "stream",
     "text": [
      "Epoch 26: 100%|██████████| 1429/1429 [01:06<00:00, 21.48it/s]\n",
      "Epoch 27: 100%|██████████| 1429/1429 [01:06<00:00, 21.44it/s]\n",
      "Epoch 28: 100%|██████████| 1429/1429 [01:09<00:00, 20.56it/s]\n",
      "Epoch 29: 100%|██████████| 1429/1429 [01:10<00:00, 20.32it/s]\n",
      "Epoch 30: 100%|██████████| 1429/1429 [01:10<00:00, 20.15it/s]\n"
     ]
    },
    {
     "name": "stdout",
     "output_type": "stream",
     "text": [
      "Training accuracy of epoch 30: 30.41%\n",
      "Test accuracy of epoch 30: 39.09%\n"
     ]
    },
    {
     "name": "stderr",
     "output_type": "stream",
     "text": [
      "Epoch 31: 100%|██████████| 1429/1429 [01:11<00:00, 20.03it/s]\n",
      "Epoch 32: 100%|██████████| 1429/1429 [01:11<00:00, 19.99it/s]\n",
      "Epoch 33: 100%|██████████| 1429/1429 [01:10<00:00, 20.14it/s]\n",
      "Epoch 34: 100%|██████████| 1429/1429 [01:11<00:00, 19.85it/s]\n",
      "Epoch 35: 100%|██████████| 1429/1429 [01:14<00:00, 19.21it/s]\n"
     ]
    },
    {
     "name": "stdout",
     "output_type": "stream",
     "text": [
      "Training accuracy of epoch 35: 34.31%\n",
      "Test accuracy of epoch 35: 44.19%\n"
     ]
    },
    {
     "name": "stderr",
     "output_type": "stream",
     "text": [
      "Epoch 36: 100%|██████████| 1429/1429 [01:11<00:00, 20.11it/s]\n",
      "Epoch 37: 100%|██████████| 1429/1429 [01:11<00:00, 19.99it/s]\n",
      "Epoch 38: 100%|██████████| 1429/1429 [01:12<00:00, 19.81it/s]\n",
      "Epoch 39: 100%|██████████| 1429/1429 [01:12<00:00, 19.82it/s]\n",
      "Epoch 40: 100%|██████████| 1429/1429 [01:11<00:00, 20.00it/s]\n"
     ]
    },
    {
     "name": "stdout",
     "output_type": "stream",
     "text": [
      "Training accuracy of epoch 40: 37.58%\n",
      "Test accuracy of epoch 40: 48.10%\n"
     ]
    },
    {
     "name": "stderr",
     "output_type": "stream",
     "text": [
      "Epoch 41: 100%|██████████| 1429/1429 [01:11<00:00, 19.97it/s]\n",
      "Epoch 42: 100%|██████████| 1429/1429 [01:11<00:00, 19.88it/s]\n",
      "Epoch 43: 100%|██████████| 1429/1429 [01:11<00:00, 19.99it/s]\n",
      "Epoch 44: 100%|██████████| 1429/1429 [01:11<00:00, 19.94it/s]\n",
      "Epoch 45: 100%|██████████| 1429/1429 [01:11<00:00, 20.03it/s]\n"
     ]
    },
    {
     "name": "stdout",
     "output_type": "stream",
     "text": [
      "Training accuracy of epoch 45: 40.57%\n",
      "Test accuracy of epoch 45: 51.84%\n"
     ]
    },
    {
     "name": "stderr",
     "output_type": "stream",
     "text": [
      "Epoch 46: 100%|██████████| 1429/1429 [01:11<00:00, 19.95it/s]\n",
      "Epoch 47: 100%|██████████| 1429/1429 [01:11<00:00, 20.02it/s]\n",
      "Epoch 48: 100%|██████████| 1429/1429 [01:11<00:00, 19.91it/s]\n",
      "Epoch 49: 100%|██████████| 1429/1429 [01:11<00:00, 20.11it/s]\n",
      "Epoch 50: 100%|██████████| 1429/1429 [01:11<00:00, 19.96it/s]\n"
     ]
    },
    {
     "name": "stdout",
     "output_type": "stream",
     "text": [
      "Training accuracy of epoch 50: 43.52%\n",
      "Test accuracy of epoch 50: 53.57%\n"
     ]
    },
    {
     "name": "stderr",
     "output_type": "stream",
     "text": [
      "Epoch 51: 100%|██████████| 1429/1429 [01:11<00:00, 20.06it/s]\n",
      "Epoch 52: 100%|██████████| 1429/1429 [01:11<00:00, 19.88it/s]\n",
      "Epoch 53: 100%|██████████| 1429/1429 [01:11<00:00, 20.06it/s]\n",
      "Epoch 54: 100%|██████████| 1429/1429 [01:11<00:00, 19.86it/s]\n",
      "Epoch 55: 100%|██████████| 1429/1429 [01:11<00:00, 19.89it/s]\n"
     ]
    },
    {
     "name": "stdout",
     "output_type": "stream",
     "text": [
      "Training accuracy of epoch 55: 45.94%\n",
      "Test accuracy of epoch 55: 55.47%\n"
     ]
    },
    {
     "name": "stderr",
     "output_type": "stream",
     "text": [
      "Epoch 56: 100%|██████████| 1429/1429 [01:11<00:00, 20.05it/s]\n",
      "Epoch 57: 100%|██████████| 1429/1429 [01:11<00:00, 19.98it/s]\n",
      "Epoch 58: 100%|██████████| 1429/1429 [01:11<00:00, 19.99it/s]\n",
      "Epoch 59: 100%|██████████| 1429/1429 [01:11<00:00, 19.88it/s]\n",
      "Epoch 60: 100%|██████████| 1429/1429 [01:11<00:00, 19.94it/s]\n"
     ]
    },
    {
     "name": "stdout",
     "output_type": "stream",
     "text": [
      "Training accuracy of epoch 60: 48.48%\n",
      "Test accuracy of epoch 60: 55.88%\n"
     ]
    },
    {
     "name": "stderr",
     "output_type": "stream",
     "text": [
      "Epoch 61: 100%|██████████| 1429/1429 [01:11<00:00, 19.94it/s]\n",
      "Epoch 62: 100%|██████████| 1429/1429 [01:11<00:00, 19.99it/s]\n",
      "Epoch 63: 100%|██████████| 1429/1429 [01:11<00:00, 20.02it/s]\n",
      "Epoch 64: 100%|██████████| 1429/1429 [01:11<00:00, 19.98it/s]\n",
      "Epoch 65: 100%|██████████| 1429/1429 [01:11<00:00, 20.05it/s]\n"
     ]
    },
    {
     "name": "stdout",
     "output_type": "stream",
     "text": [
      "Training accuracy of epoch 65: 51.23%\n",
      "Test accuracy of epoch 65: 57.97%\n"
     ]
    },
    {
     "name": "stderr",
     "output_type": "stream",
     "text": [
      "Epoch 66: 100%|██████████| 1429/1429 [01:11<00:00, 20.07it/s]\n",
      "Epoch 67: 100%|██████████| 1429/1429 [01:12<00:00, 19.82it/s]\n",
      "Epoch 68: 100%|██████████| 1429/1429 [01:11<00:00, 20.11it/s]\n",
      "Epoch 69: 100%|██████████| 1429/1429 [01:11<00:00, 19.91it/s]\n",
      "Epoch 70: 100%|██████████| 1429/1429 [01:11<00:00, 20.03it/s]\n"
     ]
    },
    {
     "name": "stdout",
     "output_type": "stream",
     "text": [
      "Training accuracy of epoch 70: 53.34%\n",
      "Test accuracy of epoch 70: 61.11%\n"
     ]
    },
    {
     "name": "stderr",
     "output_type": "stream",
     "text": [
      "Epoch 71: 100%|██████████| 1429/1429 [01:12<00:00, 19.82it/s]\n",
      "Epoch 72: 100%|██████████| 1429/1429 [01:11<00:00, 19.96it/s]\n",
      "Epoch 73: 100%|██████████| 1429/1429 [01:11<00:00, 20.07it/s]\n",
      "Epoch 74: 100%|██████████| 1429/1429 [01:11<00:00, 20.06it/s]\n",
      "Epoch 75: 100%|██████████| 1429/1429 [01:12<00:00, 19.71it/s]\n"
     ]
    },
    {
     "name": "stdout",
     "output_type": "stream",
     "text": [
      "Training accuracy of epoch 75: 56.29%\n",
      "Test accuracy of epoch 75: 62.49%\n"
     ]
    },
    {
     "name": "stderr",
     "output_type": "stream",
     "text": [
      "Epoch 76: 100%|██████████| 1429/1429 [01:11<00:00, 19.89it/s]\n",
      "Epoch 77: 100%|██████████| 1429/1429 [01:11<00:00, 19.98it/s]\n",
      "Epoch 78: 100%|██████████| 1429/1429 [01:11<00:00, 20.07it/s]\n",
      "Epoch 79: 100%|██████████| 1429/1429 [01:11<00:00, 20.10it/s]\n",
      "Epoch 80: 100%|██████████| 1429/1429 [01:10<00:00, 20.21it/s]\n"
     ]
    },
    {
     "name": "stdout",
     "output_type": "stream",
     "text": [
      "Training accuracy of epoch 80: 58.72%\n",
      "Test accuracy of epoch 80: 63.67%\n"
     ]
    },
    {
     "name": "stderr",
     "output_type": "stream",
     "text": [
      "Epoch 81: 100%|██████████| 1429/1429 [01:10<00:00, 20.26it/s]\n",
      "Epoch 82: 100%|██████████| 1429/1429 [01:11<00:00, 20.07it/s]\n",
      "Epoch 83: 100%|██████████| 1429/1429 [01:11<00:00, 20.08it/s]\n",
      "Epoch 84: 100%|██████████| 1429/1429 [01:11<00:00, 20.09it/s]\n",
      "Epoch 85: 100%|██████████| 1429/1429 [01:10<00:00, 20.14it/s]\n"
     ]
    },
    {
     "name": "stdout",
     "output_type": "stream",
     "text": [
      "Training accuracy of epoch 85: 61.12%\n",
      "Test accuracy of epoch 85: 64.72%\n"
     ]
    },
    {
     "name": "stderr",
     "output_type": "stream",
     "text": [
      "Epoch 86: 100%|██████████| 1429/1429 [01:11<00:00, 20.12it/s]\n",
      "Epoch 87: 100%|██████████| 1429/1429 [01:10<00:00, 20.13it/s]\n",
      "Epoch 88: 100%|██████████| 1429/1429 [01:11<00:00, 20.08it/s]\n",
      "Epoch 89: 100%|██████████| 1429/1429 [01:10<00:00, 20.18it/s]\n",
      "Epoch 90: 100%|██████████| 1429/1429 [01:11<00:00, 20.00it/s]\n"
     ]
    },
    {
     "name": "stdout",
     "output_type": "stream",
     "text": [
      "Training accuracy of epoch 90: 62.81%\n",
      "Test accuracy of epoch 90: 65.32%\n"
     ]
    },
    {
     "name": "stderr",
     "output_type": "stream",
     "text": [
      "Epoch 91: 100%|██████████| 1429/1429 [01:11<00:00, 20.12it/s]\n",
      "Epoch 92: 100%|██████████| 1429/1429 [01:11<00:00, 19.99it/s]\n",
      "Epoch 93: 100%|██████████| 1429/1429 [01:10<00:00, 20.15it/s]\n",
      "Epoch 94: 100%|██████████| 1429/1429 [01:11<00:00, 20.04it/s]\n",
      "Epoch 95: 100%|██████████| 1429/1429 [01:11<00:00, 20.02it/s]\n"
     ]
    },
    {
     "name": "stdout",
     "output_type": "stream",
     "text": [
      "Training accuracy of epoch 95: 64.34%\n",
      "Test accuracy of epoch 95: 65.78%\n"
     ]
    },
    {
     "name": "stderr",
     "output_type": "stream",
     "text": [
      "Epoch 96: 100%|██████████| 1429/1429 [01:11<00:00, 20.01it/s]\n",
      "Epoch 97: 100%|██████████| 1429/1429 [01:11<00:00, 19.99it/s]\n",
      "Epoch 98: 100%|██████████| 1429/1429 [01:10<00:00, 20.16it/s]\n",
      "Epoch 99: 100%|██████████| 1429/1429 [01:11<00:00, 19.90it/s]\n",
      "Epoch 100: 100%|██████████| 1429/1429 [01:11<00:00, 20.09it/s]\n"
     ]
    },
    {
     "name": "stdout",
     "output_type": "stream",
     "text": [
      "Training accuracy of epoch 100: 64.73%\n",
      "Test accuracy of epoch 100: 66.08%\n",
      "Training Time: 7440.97 seconds\n"
     ]
    },
    {
     "data": {
      "image/png": "[encoded data removed]",
      "text/plain": [
       "<Figure size 800x600 with 1 Axes>"
      ]
     },
     "metadata": {},
     "output_type": "display_data"
    }
   ],
   "source": [
    "# Instantiate and train a new model\n",
    "model = FoodCNN().to(device)\n",
    "model._train_and_save_model()  \n"
   ]
  },
  {
   "cell_type": "code",
   "execution_count": 23,
   "id": "1eaa35096547d04",
   "metadata": {},
   "outputs": [
    {
     "name": "stdout",
     "output_type": "stream",
     "text": [
      "Final Test Accuracy: 64.88%\n"
     ]
    }
   ],
   "source": [
    "# Load the best model weights\n",
    "model = FoodCNN().to(device)  # move model to GPU if available\n",
    "model.load_state_dict(torch.load(\"best_model.pth\", map_location=device))\n",
    "model.eval()  \n",
    "\n",
    "\n",
    "# calculate and print final test accuracy\n",
    "final_test_acc = calculate_test_accuracy(model, test_loader)\n",
    "print(f\"Final Test Accuracy: {final_test_acc:.2f}%\")"
   ]
  },
  {
   "cell_type": "markdown",
   "id": "85ecc6f7f921591e",
   "metadata": {},
   "source": [
    "# Summary of hyperparameters\n",
    "Report the hyperparameters ( learning rate etc ) that you used in your final model for reproducibility."
   ]
  },
  {
   "cell_type": "markdown",
   "id": "cd756903",
   "metadata": {},
   "source": [
    "### Hyperparameters and Model Architecture Settings Summary\n",
    "\n",
    "- Learning rate: 0.05 (with cosine annealing scheduler)\n",
    "- Optimizer: SGD with momentum = 0.9 and weight decay = 1e-4\n",
    "- Epochs: Up to 100, with early stopping (patience = 5; checked every 5 epochs → triggers after 25 stagnant epochs)\n",
    "- Evaluation interval: Every 5 epochs\n",
    "- Batch size: 32\n",
    "- Loss function: CrossEntropyLoss (with label smoothing = 0.1)\n",
    "- Dropout: 0.5 (fully connected layers)\n",
    "- Dropout2d: 0.2 (convolutional layers)\n",
    "- Label smoothing: 0.1\n",
    "- Number of convolutional blocks: 4 (VGG-style)\n",
    "- Kernel size: 3×3 with padding = 1\n",
    "- Data augmentation: Random resized crop (80–100%), horizontal flip (50%), rotation (±15°), color jitter (±10%), random erasing (25%)\n",
    "- Architecture: 4 VGG-style convolutional blocks (2 conv + batch norm + ReLU per block), followed by dropout and pooling with increasing filters (64→128→256→512)\n",
    "- Final layers: Adaptive average pooling → Flatten → Linear(512→256) + ReLU + Dropout(0.5) → Linear(256→91)\n"
   ]
  },
  {
   "cell_type": "markdown",
   "id": "d5b6a524e28b431a",
   "metadata": {},
   "source": [
    "# Simulation of random user\n",
    "Pick 10 random pictures of the test set to simulate a user uploading images and report which categories occur how often in these: 1pt"
   ]
  },
  {
   "cell_type": "code",
   "execution_count": 28,
   "id": "2b6e8175cacc8dfe",
   "metadata": {
    "ExecuteTime": {
     "end_time": "2025-04-02T17:04:06.539916Z",
     "start_time": "2025-04-02T17:04:05.929092Z"
    }
   },
   "outputs": [
    {
     "name": "stdout",
     "output_type": "stream",
     "text": [
      "Predicted Class Frequencies: {'huevos_rancheros': 1, 'guacamole': 1, 'red_velvet_cake': 1, 'falafel': 1, 'chicken_wings': 1, 'french_onion_soup': 1, 'macaroni_and_cheese': 1, 'risotto': 1, 'frozen_yogurt': 1, 'poutine': 1}\n",
      "True Class Frequencies: {'pizza': 1, 'guacamole': 1, 'red_velvet_cake': 1, 'ramen': 1, 'peking_duck': 1, 'french_onion_soup': 2, 'risotto': 1, 'frozen_yogurt': 1, 'poutine': 1}\n"
     ]
    }
   ],
   "source": [
    "def user_behaviour_simulation(model):\n",
    "    model.eval()\n",
    "\n",
    "    random_indices = random.sample(range(len(test_dataset)), 10)\n",
    "\n",
    "    true_labels = []\n",
    "    predicted_labels = []\n",
    "\n",
    "    for idx in random_indices:\n",
    "        image, label = test_dataset[idx]\n",
    "        true_labels.append(label)\n",
    "\n",
    "        #adjusts an image to be viewed as a batch\n",
    "        image = image.unsqueeze(0).to(device)\n",
    "        with torch.no_grad():\n",
    "            output = model(image)\n",
    "            pred_label = torch.argmax(output, dim=1).item()\n",
    "            predicted_labels.append(pred_label)\n",
    "\n",
    "    #maps the indices of the classes to their real names from the dataset\n",
    "    class_names = test_dataset.classes\n",
    "    true_class_names = [class_names[i] for i in true_labels]\n",
    "    pred_class_names = [class_names[i] for i in predicted_labels]\n",
    "\n",
    "    #stores the classes names with their counts in a separate dictionaries\n",
    "    true_counts = dict(Counter(true_class_names))\n",
    "    pred_counts = dict(Counter(pred_class_names))\n",
    "\n",
    "    #formats output as expected\n",
    "    print(\"Predicted Class Frequencies:\", pred_counts)\n",
    "    print(\"True Class Frequencies:\", true_counts)\n",
    "\n",
    "user_behaviour_simulation(model)"
   ]
  },
  {
   "cell_type": "markdown",
   "id": "88e7a3634bf6861f",
   "metadata": {},
   "source": [
    "# Bonus point\n",
    "Use an LLM (API) to generate a description of the food preference of a user based on 10 images that a potential user could provide. \n",
    "Please include an example of the output of your code, especially if you used an API other than the OpenAI API.\n",
    "\n",
    "This should work well even with differing test images by setting different random seeds for the image selector."
   ]
  },
  {
   "cell_type": "code",
   "execution_count": null,
   "id": "6819fa0042485dae",
   "metadata": {},
   "outputs": [],
   "source": []
  }
 ],
 "metadata": {
  "kernelspec": {
   "display_name": "Neural_Computing",
   "language": "python",
   "name": "python3"
  },
  "language_info": {
   "codemirror_mode": {
    "name": "ipython",
    "version": 3
   },
   "file_extension": ".py",
   "mimetype": "text/x-python",
   "name": "python",
   "nbconvert_exporter": "python",
   "pygments_lexer": "ipython3",
   "version": "3.12.9"
  }
 },
 "nbformat": 4,
 "nbformat_minor": 5
}
